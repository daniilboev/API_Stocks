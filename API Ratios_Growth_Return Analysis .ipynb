{
 "cells": [
  {
   "cell_type": "code",
   "execution_count": 25,
   "id": "8e8ade74",
   "metadata": {},
   "outputs": [],
   "source": [
    "from urllib.request import urlopen\n",
    "from urllib.error import HTTPError\n",
    "import json\n",
    "import pandas as pd\n",
    "import matplotlib.pyplot as plt\n",
    "import numpy as np\n",
    "import statsmodels.api as sm\n",
    "import seaborn as sns\n",
    "import matplotlib as mpl\n",
    "from matplotlib import cycler\n",
    "\n",
    "from sklearn.model_selection import train_test_split\n",
    "from sklearn.linear_model import LinearRegression\n",
    "from sklearn import metrics"
   ]
  },
  {
   "cell_type": "code",
   "execution_count": 26,
   "id": "9985d7ad",
   "metadata": {},
   "outputs": [],
   "source": [
    "IPython_default = plt.rcParams.copy()\n",
    "\n",
    "colors = cycler('color',\n",
    "                ['#EE6666', '#3388BB', '#9988DD',\n",
    "                 '#EECC55', '#88BB44', '#FFBBBB'])\n",
    "plt.rc('axes', facecolor='#E6E6E6', edgecolor='none',\n",
    "       axisbelow=True, grid=True, prop_cycle=colors)\n",
    "plt.rc('grid', color='w', linestyle='solid')\n",
    "plt.rc('xtick', direction='out', color='gray')\n",
    "plt.rc('ytick', direction='out', color='gray')\n",
    "plt.rc('patch', edgecolor='#E6E6E6')\n",
    "plt.rc('lines', linewidth=2)"
   ]
  },
  {
   "cell_type": "code",
   "execution_count": 3,
   "id": "02a6a04d",
   "metadata": {},
   "outputs": [],
   "source": [
    "api = 'xxx' #use your API key from the FMP https://site.financialmodelingprep.com/developer/docs/"
   ]
  },
  {
   "cell_type": "code",
   "execution_count": 4,
   "id": "e4d89c0d",
   "metadata": {},
   "outputs": [],
   "source": [
    "def growth(ticker, api_key, as_reported=False, limit=130):\n",
    "    \n",
    "    if as_reported:\n",
    "        URL = (f\"https://financialmodelingprep.com/api/v3/financial-growth/{ticker}?limit={limit}&apikey={api_key}\")\n",
    "             \n",
    "    else:\n",
    "        URL = (f\"https://financialmodelingprep.com/api/v3/financial-growth/{ticker}?limit={limit}&apikey={api_key}\")\n",
    "\n",
    "    response = urlopen(URL)\n",
    "    data = json.loads(response.read().decode(\"utf-8\"))\n",
    "\n",
    "    data_formatted = {}\n",
    "    \n",
    "    return data\n",
    "\n",
    "def ratios(ticker, api_key, as_reported=False, limit=130):\n",
    "    \n",
    "    if as_reported:\n",
    "        URL = (f\"https://financialmodelingprep.com/api/v3/ratios/{ticker}?limit={limit}&apikey={api_key}\")\n",
    "             \n",
    "    else:\n",
    "        URL = (f\"https://financialmodelingprep.com/api/v3/ratios/{ticker}?limit={limit}&apikey={api_key}\")\n",
    "\n",
    "    response = urlopen(URL)\n",
    "    data = json.loads(response.read().decode(\"utf-8\"))\n",
    "\n",
    "    data_formatted = {}\n",
    "    \n",
    "\n",
    "    return data\n",
    "\n",
    "\n",
    "def key(ticker, api_key, as_reported=False, limit=130):\n",
    "    \n",
    "    if as_reported:\n",
    "        URL = (f\"https://financialmodelingprep.com/api/v3/key-metrics/{ticker}?limit={limit}&apikey={api_key}\")\n",
    "             \n",
    "    else:\n",
    "        URL = (f\"https://financialmodelingprep.com/api/v3/key-metrics/{ticker}?limit={limit}&apikey={api_key}\")\n",
    "\n",
    "    response = urlopen(URL)\n",
    "    data = json.loads(response.read().decode(\"utf-8\"))\n",
    "\n",
    "    data_formatted = {}\n",
    "    \n",
    "\n",
    "    return data\n",
    "\n",
    "\n",
    "def quote(ticker, api_key, as_reported=False):\n",
    "    \n",
    "    if as_reported:\n",
    "        URL = (f\"https://financialmodelingprep.com/api/v3/historical-price-full/{ticker}?serietype=line&apikey={api_key}\")\n",
    "             \n",
    "    else:\n",
    "        URL = (f\"https://financialmodelingprep.com/api/v3/historical-price-full/{ticker}?serietype=line&apikey={api_key}\")\n",
    "\n",
    "    response = urlopen(URL)\n",
    "    data = json.loads(response.read().decode(\"utf-8\"))\n",
    "\n",
    "    data_formatted = {}\n",
    "\n",
    "    return data"
   ]
  },
  {
   "cell_type": "code",
   "execution_count": 5,
   "id": "d85551fa",
   "metadata": {},
   "outputs": [],
   "source": [
    "stock_one = 'ABT'\n",
    "ticker_list = ['ABBV',\n",
    "'ABMD','A','ALGN','ABC','AMGN','ANTM','BAX','BDX','BIO',\n",
    "'TECH','BIIB','BSX','BMY','CAH','CTLT','CNC','CERN','CRL','CI',\n",
    "'COO','CVS','DHR','DVA','XRAY','DXCM',\n",
    "'EW',\n",
    "'GILD',\n",
    "'HCA',\n",
    "'HSIC',\n",
    "'HOLX',\n",
    "'HUM',\n",
    "'IDXX',\n",
    "'ILMN',\n",
    "'INCY',\n",
    "'ISRG',\n",
    "'IQV',\n",
    "'JNJ',\n",
    "'LH',\n",
    "'LLY',\n",
    "'MCK',\n",
    "'MDT',\n",
    "'MRK',\n",
    "'MTD',\n",
    "'MRNA',\n",
    "'MOH',\n",
    "'OGN',\n",
    "'PKI',\n",
    "'PFE',\n",
    "'DGX',\n",
    "'REGN',\n",
    "'RMD',\n",
    "'STE',\n",
    "'SYK',\n",
    "'TFX',\n",
    "'TMO',\n",
    "'UNH',\n",
    "'UHS',\n",
    "'VRTX',\n",
    "'VTRS',\n",
    "'WAT',\n",
    "'WST',\n",
    "'ZBH',\n",
    "'ZTS',] "
   ]
  },
  {
   "cell_type": "markdown",
   "id": "a98dc5a7",
   "metadata": {},
   "source": [
    "## Download Ratios , Growth and Price"
   ]
  },
  {
   "cell_type": "code",
   "execution_count": 6,
   "id": "7ba4eb9c",
   "metadata": {},
   "outputs": [],
   "source": [
    "df_initial = ratios(stock_one, api, as_reported=False, limit=130)\n",
    "df_initial = pd.json_normalize(df_initial)\n",
    "\n",
    "df_initial1 = growth(stock_one, api, as_reported=False, limit=130)\n",
    "df_initial1 = pd.json_normalize(df_initial1)\n",
    "\n",
    "df_initial2 = key(stock_one, api, as_reported=False, limit=130)\n",
    "df_initial2 = pd.json_normalize(df_initial2)\n",
    "\n",
    "for stock in ticker_list:\n",
    "    df_new = ratios(stock, api, as_reported=False, limit=130)\n",
    "    df_new = pd.json_normalize(df_new)\n",
    "    df_initial = pd.concat([df_new,df_initial],axis = 0)\n",
    "    \n",
    "for stock in ticker_list:\n",
    "    df_new1 = growth(stock, api, as_reported=False, limit=130)\n",
    "    df_new1 = pd.json_normalize(df_new1)\n",
    "    df_initial1 = pd.concat([df_new1,df_initial1],axis = 0)\n",
    "    \n",
    "for stock in ticker_list:\n",
    "    df_new2 = key(stock, api, as_reported=False, limit=130)\n",
    "    df_new2 = pd.json_normalize(df_new2)\n",
    "    df_initial2 = pd.concat([df_new2,df_initial2],axis = 0)"
   ]
  },
  {
   "cell_type": "code",
   "execution_count": 7,
   "id": "f1f27220",
   "metadata": {
    "scrolled": true
   },
   "outputs": [],
   "source": [
    "df_initial['name'] = df_initial['symbol'] + df_initial['date']\n",
    "df_initial['date'] = pd.to_datetime(df_initial['date'])\n",
    "\n",
    "df_initial1['name'] = df_initial1['symbol'] + df_initial1['date']\n",
    "df_initial1['date'] = pd.to_datetime(df_initial1['date'])\n",
    "\n",
    "df_initial2['name'] = df_initial2['symbol'] + df_initial2['date']\n",
    "df_initial2['date'] = pd.to_datetime(df_initial2['date'])\n",
    "\n",
    "df_initial3 = pd.merge(df_initial, df_initial1, left_on='name', right_on='name')\n",
    "df_initial3 = pd.merge(df_initial3, df_initial2, left_on='name', right_on='name')"
   ]
  },
  {
   "cell_type": "code",
   "execution_count": 10,
   "id": "4f666896",
   "metadata": {},
   "outputs": [],
   "source": [
    "FIELDS = ['close','date']\n",
    "\n",
    "df_initial2 = quote(stock_one, api, as_reported=False)\n",
    "df_initial2 = pd.json_normalize(df_initial2['historical'])\n",
    "df_initial2['symbol_x'] = stock_one\n",
    "\n",
    "for stock in ticker_list:\n",
    "    df_new2 = quote(stock, api, as_reported=False)\n",
    "    df_new2 = pd.json_normalize(df_new2['historical'])\n",
    "    df_new2 = df_new2[FIELDS]\n",
    "    df_new2['symbol_x'] = stock \n",
    "    df_initial2 = pd.concat([df_new2,df_initial2],axis = 0)\n",
    "    \n",
    "df_initial2 = df_initial2.rename(columns={\"date\": \"date_x\"})\n",
    "df_initial2 = df_initial2.loc[:, ['symbol_x','date_x','close']]"
   ]
  },
  {
   "cell_type": "code",
   "execution_count": 32,
   "id": "78fc444e",
   "metadata": {},
   "outputs": [],
   "source": [
    "df_1 = df_initial2[(df_initial2['date_x']>='2014-01-01') & (df_initial2['date_x']<='2020-01-01')]\n",
    "df_2 = df_initial3[(df_initial3['date_x']>='2014-01-01') & (df_initial3['date_x']<='2020-01-01')]"
   ]
  },
  {
   "cell_type": "code",
   "execution_count": 33,
   "id": "4bd67f0c",
   "metadata": {
    "scrolled": true
   },
   "outputs": [
    {
     "name": "stderr",
     "output_type": "stream",
     "text": [
      "<ipython-input-33-f9386adeba99>:1: SettingWithCopyWarning: \n",
      "A value is trying to be set on a copy of a slice from a DataFrame.\n",
      "Try using .loc[row_indexer,col_indexer] = value instead\n",
      "\n",
      "See the caveats in the documentation: https://pandas.pydata.org/pandas-docs/stable/user_guide/indexing.html#returning-a-view-versus-a-copy\n",
      "  df_1['date_x'] = pd.to_datetime(df_1['date_x'])\n",
      "<ipython-input-33-f9386adeba99>:2: SettingWithCopyWarning: \n",
      "A value is trying to be set on a copy of a slice from a DataFrame.\n",
      "Try using .loc[row_indexer,col_indexer] = value instead\n",
      "\n",
      "See the caveats in the documentation: https://pandas.pydata.org/pandas-docs/stable/user_guide/indexing.html#returning-a-view-versus-a-copy\n",
      "  df_2['date_x'] = pd.to_datetime(df_2['date_x'])\n"
     ]
    }
   ],
   "source": [
    "df_1['date_x'] = pd.to_datetime(df_1['date_x'])\n",
    "df_2['date_x'] = pd.to_datetime(df_2['date_x'])\n",
    "\n",
    "df = pd.merge_asof(df_1.sort_values('date_x'),df_2.sort_values('date_x'), on='date_x', by='symbol_x', tolerance=pd.Timedelta(\"2 day\"))"
   ]
  },
  {
   "cell_type": "code",
   "execution_count": 34,
   "id": "0d9a24b4",
   "metadata": {},
   "outputs": [],
   "source": [
    "df = df.dropna(subset=['period_x']).sort_values(['symbol_x','date_x'])\n",
    "\n",
    "df['return'] = df.groupby('symbol_x')['close'].pct_change()\n",
    "df = df.dropna(subset=['return']).sort_values(['symbol_x','date_x'])\n",
    "\n",
    "#df = df.set_index('symbol_x')\n",
    "\n",
    "df['return_next'] = df['return']\n",
    "df['return_next'] = df.groupby('symbol_x')['return_next'].shift(-1)\n",
    "\n",
    "df = df.dropna(subset=['return_next'])\n",
    "\n",
    "df_for_ind = df"
   ]
  },
  {
   "cell_type": "markdown",
   "id": "ef8ce98b",
   "metadata": {},
   "source": [
    "## Analysis - Single Security"
   ]
  },
  {
   "cell_type": "code",
   "execution_count": 36,
   "id": "fe954e6a",
   "metadata": {},
   "outputs": [
    {
     "data": {
      "image/png": "[encoded data removed]",
      "text/plain": [
       "<Figure size 432x288 with 1 Axes>"
      ]
     },
     "metadata": {
      "needs_background": "dark"
     },
     "output_type": "display_data"
    }
   ],
   "source": [
    "dd = df[df['symbol_x'] == 'BMY']\n",
    "\n",
    "date = dd['date_x']\n",
    "pe = dd['priceEarningsRatio']\n",
    "mm = np.mean(dd['priceEarningsRatio'])\n",
    "\n",
    "plt.plot(date, pe, color='black', marker='^')\n",
    "plt.title('Historical P/E Ratio', fontsize=14)\n",
    "plt.ylabel('P/E Ratio', fontsize=14)\n",
    "plt.grid(color = 'grey', linestyle = '--', linewidth = 1)\n",
    "plt.axhline(mm, color='green' ) # horizontal\n",
    "plt.show()"
   ]
  },
  {
   "cell_type": "markdown",
   "id": "fa94c88a",
   "metadata": {},
   "source": [
    "## Download Index"
   ]
  },
  {
   "cell_type": "code",
   "execution_count": 37,
   "id": "be5906f4",
   "metadata": {},
   "outputs": [],
   "source": [
    "FIELDS = ['close','date']\n",
    "\n",
    "df_ind = quote('SPY', api, as_reported=False)\n",
    "df_ind = pd.json_normalize(df_ind['historical'])\n",
    "df_ind['symbol_x'] = 'SPY'\n",
    "    \n",
    "df_ind = df_ind.rename(columns={\"date\": \"date_x\"})\n",
    "df_ind = df_ind.loc[:, ['symbol_x','date_x','close']]"
   ]
  },
  {
   "cell_type": "code",
   "execution_count": 38,
   "id": "923d0ed8",
   "metadata": {},
   "outputs": [],
   "source": [
    "df_ind = df_ind.sort_values(['date_x'])\n",
    "\n",
    "df_ind['index_return'] = df_ind['close'].pct_change(periods=252)\n",
    "\n",
    "df_ind['index_return_next'] = df_ind['index_return']\n",
    "df_ind['index_return_next'] = df_ind['index_return_next'].shift(-252)\n",
    "\n",
    "df_ind['date_x'] = pd.to_datetime(df_ind['date_x'])\n",
    "\n",
    "df111 = pd.merge_asof(df_for_ind.sort_values('date_x'), \n",
    "                      df_ind.sort_values('date_x'), on='date_x', tolerance=pd.Timedelta(\"2 day\"))\n",
    "\n",
    "df = df111.drop_duplicates(subset=['currentRatio_x'], keep='last')"
   ]
  },
  {
   "cell_type": "markdown",
   "id": "986b9880",
   "metadata": {},
   "source": [
    "## OLS - Multiple Variables"
   ]
  },
  {
   "cell_type": "code",
   "execution_count": 39,
   "id": "f83d019f",
   "metadata": {},
   "outputs": [],
   "source": [
    "df_test = df.dropna(subset=['return_next','grossProfitMargin', 'epsgrowth',\n",
    "                            'roic','index_return_next','revenueGrowth','assetGrowth',\n",
    "                            'researchAndDdevelopementToRevenue','payoutRatio_x','enterpriseValueOverEBITDA',\n",
    "                           'roe','marketCap','return'])\n",
    "y = df_test['return_next']\n",
    "x = df_test[['grossProfitMargin','roic','index_return_next','revenueGrowth','epsgrowth',\n",
    "            'assetGrowth','researchAndDdevelopementToRevenue','payoutRatio_x','enterpriseValueOverEBITDA',\n",
    "            'roe','marketCap','return']]\n",
    "\n",
    "x_train, x_test, y_train, y_test = train_test_split(x, y, test_size = 0.4, random_state = 100)"
   ]
  },
  {
   "cell_type": "code",
   "execution_count": 40,
   "id": "157fd61d",
   "metadata": {},
   "outputs": [
    {
     "data": {
      "text/html": [
       "<table class=\"simpletable\">\n",
       "<caption>OLS Regression Results</caption>\n",
       "<tr>\n",
       "  <th>Dep. Variable:</th>       <td>return_next</td>   <th>  R-squared (uncentered):</th>      <td>   0.374</td>\n",
       "</tr>\n",
       "<tr>\n",
       "  <th>Model:</th>                   <td>OLS</td>       <th>  Adj. R-squared (uncentered):</th> <td>   0.323</td>\n",
       "</tr>\n",
       "<tr>\n",
       "  <th>Method:</th>             <td>Least Squares</td>  <th>  F-statistic:       </th>          <td>   7.455</td>\n",
       "</tr>\n",
       "<tr>\n",
       "  <th>Date:</th>             <td>Tue, 22 Mar 2022</td> <th>  Prob (F-statistic):</th>          <td>1.14e-10</td>\n",
       "</tr>\n",
       "<tr>\n",
       "  <th>Time:</th>                 <td>22:47:58</td>     <th>  Log-Likelihood:    </th>          <td> -41.849</td>\n",
       "</tr>\n",
       "<tr>\n",
       "  <th>No. Observations:</th>      <td>   162</td>      <th>  AIC:               </th>          <td>   107.7</td>\n",
       "</tr>\n",
       "<tr>\n",
       "  <th>Df Residuals:</th>          <td>   150</td>      <th>  BIC:               </th>          <td>   144.7</td>\n",
       "</tr>\n",
       "<tr>\n",
       "  <th>Df Model:</th>              <td>    12</td>      <th>                     </th>              <td> </td>   \n",
       "</tr>\n",
       "<tr>\n",
       "  <th>Covariance Type:</th>      <td>nonrobust</td>    <th>                     </th>              <td> </td>   \n",
       "</tr>\n",
       "</table>\n",
       "<table class=\"simpletable\">\n",
       "<tr>\n",
       "                  <td></td>                     <th>coef</th>     <th>std err</th>      <th>t</th>      <th>P>|t|</th>  <th>[0.025</th>    <th>0.975]</th>  \n",
       "</tr>\n",
       "<tr>\n",
       "  <th>grossProfitMargin</th>                 <td>    0.3304</td> <td>    0.107</td> <td>    3.076</td> <td> 0.002</td> <td>    0.118</td> <td>    0.543</td>\n",
       "</tr>\n",
       "<tr>\n",
       "  <th>roic</th>                              <td>    0.2399</td> <td>    0.253</td> <td>    0.950</td> <td> 0.344</td> <td>   -0.259</td> <td>    0.739</td>\n",
       "</tr>\n",
       "<tr>\n",
       "  <th>index_return_next</th>                 <td>    0.6912</td> <td>    0.206</td> <td>    3.355</td> <td> 0.001</td> <td>    0.284</td> <td>    1.098</td>\n",
       "</tr>\n",
       "<tr>\n",
       "  <th>revenueGrowth</th>                     <td>   -0.1676</td> <td>    0.169</td> <td>   -0.994</td> <td> 0.322</td> <td>   -0.501</td> <td>    0.165</td>\n",
       "</tr>\n",
       "<tr>\n",
       "  <th>epsgrowth</th>                         <td>   -0.0080</td> <td>    0.004</td> <td>   -1.830</td> <td> 0.069</td> <td>   -0.017</td> <td>    0.001</td>\n",
       "</tr>\n",
       "<tr>\n",
       "  <th>assetGrowth</th>                       <td>    0.2750</td> <td>    0.122</td> <td>    2.257</td> <td> 0.025</td> <td>    0.034</td> <td>    0.516</td>\n",
       "</tr>\n",
       "<tr>\n",
       "  <th>researchAndDdevelopementToRevenue</th> <td>   -0.1533</td> <td>    0.208</td> <td>   -0.738</td> <td> 0.462</td> <td>   -0.564</td> <td>    0.257</td>\n",
       "</tr>\n",
       "<tr>\n",
       "  <th>payoutRatio_x</th>                     <td>   -0.0085</td> <td>    0.022</td> <td>   -0.393</td> <td> 0.695</td> <td>   -0.051</td> <td>    0.034</td>\n",
       "</tr>\n",
       "<tr>\n",
       "  <th>enterpriseValueOverEBITDA</th>         <td>-4.293e-05</td> <td> 4.32e-05</td> <td>   -0.994</td> <td> 0.322</td> <td>   -0.000</td> <td> 4.24e-05</td>\n",
       "</tr>\n",
       "<tr>\n",
       "  <th>roe</th>                               <td>   -0.0851</td> <td>    0.054</td> <td>   -1.581</td> <td> 0.116</td> <td>   -0.191</td> <td>    0.021</td>\n",
       "</tr>\n",
       "<tr>\n",
       "  <th>marketCap</th>                         <td>-7.488e-13</td> <td> 3.85e-13</td> <td>   -1.945</td> <td> 0.054</td> <td>-1.51e-12</td> <td> 1.19e-14</td>\n",
       "</tr>\n",
       "<tr>\n",
       "  <th>return</th>                            <td>   -0.1024</td> <td>    0.095</td> <td>   -1.075</td> <td> 0.284</td> <td>   -0.291</td> <td>    0.086</td>\n",
       "</tr>\n",
       "</table>\n",
       "<table class=\"simpletable\">\n",
       "<tr>\n",
       "  <th>Omnibus:</th>       <td>108.262</td> <th>  Durbin-Watson:     </th> <td>   2.055</td> \n",
       "</tr>\n",
       "<tr>\n",
       "  <th>Prob(Omnibus):</th> <td> 0.000</td>  <th>  Jarque-Bera (JB):  </th> <td>1120.270</td> \n",
       "</tr>\n",
       "<tr>\n",
       "  <th>Skew:</th>          <td> 2.261</td>  <th>  Prob(JB):          </th> <td>5.45e-244</td>\n",
       "</tr>\n",
       "<tr>\n",
       "  <th>Kurtosis:</th>      <td>15.063</td>  <th>  Cond. No.          </th> <td>1.02e+12</td> \n",
       "</tr>\n",
       "</table><br/><br/>Notes:<br/>[1] R² is computed without centering (uncentered) since the model does not contain a constant.<br/>[2] Standard Errors assume that the covariance matrix of the errors is correctly specified.<br/>[3] The condition number is large, 1.02e+12. This might indicate that there are<br/>strong multicollinearity or other numerical problems."
      ],
      "text/plain": [
       "<class 'statsmodels.iolib.summary.Summary'>\n",
       "\"\"\"\n",
       "                                 OLS Regression Results                                \n",
       "=======================================================================================\n",
       "Dep. Variable:            return_next   R-squared (uncentered):                   0.374\n",
       "Model:                            OLS   Adj. R-squared (uncentered):              0.323\n",
       "Method:                 Least Squares   F-statistic:                              7.455\n",
       "Date:                Tue, 22 Mar 2022   Prob (F-statistic):                    1.14e-10\n",
       "Time:                        22:47:58   Log-Likelihood:                         -41.849\n",
       "No. Observations:                 162   AIC:                                      107.7\n",
       "Df Residuals:                     150   BIC:                                      144.7\n",
       "Df Model:                          12                                                  \n",
       "Covariance Type:            nonrobust                                                  \n",
       "=====================================================================================================\n",
       "                                        coef    std err          t      P>|t|      [0.025      0.975]\n",
       "-----------------------------------------------------------------------------------------------------\n",
       "grossProfitMargin                     0.3304      0.107      3.076      0.002       0.118       0.543\n",
       "roic                                  0.2399      0.253      0.950      0.344      -0.259       0.739\n",
       "index_return_next                     0.6912      0.206      3.355      0.001       0.284       1.098\n",
       "revenueGrowth                        -0.1676      0.169     -0.994      0.322      -0.501       0.165\n",
       "epsgrowth                            -0.0080      0.004     -1.830      0.069      -0.017       0.001\n",
       "assetGrowth                           0.2750      0.122      2.257      0.025       0.034       0.516\n",
       "researchAndDdevelopementToRevenue    -0.1533      0.208     -0.738      0.462      -0.564       0.257\n",
       "payoutRatio_x                        -0.0085      0.022     -0.393      0.695      -0.051       0.034\n",
       "enterpriseValueOverEBITDA         -4.293e-05   4.32e-05     -0.994      0.322      -0.000    4.24e-05\n",
       "roe                                  -0.0851      0.054     -1.581      0.116      -0.191       0.021\n",
       "marketCap                         -7.488e-13   3.85e-13     -1.945      0.054   -1.51e-12    1.19e-14\n",
       "return                               -0.1024      0.095     -1.075      0.284      -0.291       0.086\n",
       "==============================================================================\n",
       "Omnibus:                      108.262   Durbin-Watson:                   2.055\n",
       "Prob(Omnibus):                  0.000   Jarque-Bera (JB):             1120.270\n",
       "Skew:                           2.261   Prob(JB):                    5.45e-244\n",
       "Kurtosis:                      15.063   Cond. No.                     1.02e+12\n",
       "==============================================================================\n",
       "\n",
       "Notes:\n",
       "[1] R² is computed without centering (uncentered) since the model does not contain a constant.\n",
       "[2] Standard Errors assume that the covariance matrix of the errors is correctly specified.\n",
       "[3] The condition number is large, 1.02e+12. This might indicate that there are\n",
       "strong multicollinearity or other numerical problems.\n",
       "\"\"\""
      ]
     },
     "execution_count": 40,
     "metadata": {},
     "output_type": "execute_result"
    }
   ],
   "source": [
    "mlr = LinearRegression(fit_intercept = False)  \n",
    "mlr.fit(x_train, y_train)\n",
    "\n",
    "#x_train1 = sm.add_constant(x_train)\n",
    "results = sm.OLS(y_train,x_train).fit()\n",
    "results.summary()  "
   ]
  },
  {
   "cell_type": "code",
   "execution_count": 20,
   "id": "d613f173",
   "metadata": {},
   "outputs": [],
   "source": [
    "y_pred_mlr= mlr.predict(x_test)\n",
    "mlr_diff = pd.DataFrame({'Actual value': y_test, 'Predicted value': y_pred_mlr})"
   ]
  },
  {
   "cell_type": "code",
   "execution_count": 21,
   "id": "6b0a7b45",
   "metadata": {},
   "outputs": [
    {
     "name": "stdout",
     "output_type": "stream",
     "text": [
      "Intercept:  0.0\n",
      "Coefficients:\n"
     ]
    },
    {
     "data": {
      "text/plain": [
       "[('grossProfitMargin', -0.03164482657562822),\n",
       " ('roic', 0.6113011372839502),\n",
       " ('index_return_next', 0.6855138229895712),\n",
       " ('revenueGrowth', 0.028942106415728357),\n",
       " ('epsgrowth', 0.005012942794343997),\n",
       " ('assetGrowth', 0.018830929593971094),\n",
       " ('researchAndDdevelopementToRevenue', 0.46613274247820996),\n",
       " ('payoutRatio_x', -0.01841290528802007),\n",
       " ('enterpriseValueOverEBITDA', -2.7648840691195614e-05),\n",
       " ('roe', 0.018356751686026216),\n",
       " ('marketCap', -5.774269951075439e-13),\n",
       " ('return', 0.0468188580275491)]"
      ]
     },
     "execution_count": 21,
     "metadata": {},
     "output_type": "execute_result"
    }
   ],
   "source": [
    "meanAbErr = metrics.mean_absolute_error(y_test, y_pred_mlr)\n",
    "meanSqErr = metrics.mean_squared_error(y_test, y_pred_mlr)\n",
    "rootMeanSqErr = np.sqrt(metrics.mean_squared_error(y_test, y_pred_mlr))\n",
    "\n",
    "print(\"Intercept: \", mlr.intercept_)\n",
    "print(\"Coefficients:\")\n",
    "list(zip(x, mlr.coef_))"
   ]
  },
  {
   "cell_type": "code",
   "execution_count": 22,
   "id": "cf15346c",
   "metadata": {},
   "outputs": [
    {
     "name": "stdout",
     "output_type": "stream",
     "text": [
      "R squared: 30.35\n",
      "Mean Absolute Error: 0.22427863707609874\n",
      "Mean Square Error: 0.11900495423908325\n",
      "Root Mean Square Error: 0.34497094694928043\n"
     ]
    }
   ],
   "source": [
    "print('R squared: {:.2f}'.format(mlr.score(x,y)*100))\n",
    "print('Mean Absolute Error:', meanAbErr)\n",
    "print('Mean Square Error:', meanSqErr)\n",
    "print('Root Mean Square Error:', rootMeanSqErr)"
   ]
  },
  {
   "cell_type": "code",
   "execution_count": 31,
   "id": "c43e361e",
   "metadata": {},
   "outputs": [
    {
     "data": {
      "image/png": "[encoded data removed]",
      "text/plain": [
       "<Figure size 432x288 with 1 Axes>"
      ]
     },
     "metadata": {
      "needs_background": "dark"
     },
     "output_type": "display_data"
    }
   ],
   "source": [
    "plt.scatter(y_test, y_pred_mlr,color='blue')\n",
    "\n",
    "plt.title('Actual VS Predicted', fontsize=14)\n",
    "plt.ylabel('Predicted', fontsize=14)\n",
    "plt.xlabel('Actual', fontsize=14)\n",
    "plt.axline([0, 0], [1, 1])\n",
    "plt.xlim([-0.5, 1])\n",
    "plt.ylim([-0.5, 0.5])\n",
    "\n",
    "plt.show()"
   ]
  }
 ],
 "metadata": {
  "kernelspec": {
   "display_name": "Python 3",
   "language": "python",
   "name": "python3"
  },
  "language_info": {
   "codemirror_mode": {
    "name": "ipython",
    "version": 3
   },
   "file_extension": ".py",
   "mimetype": "text/x-python",
   "name": "python",
   "nbconvert_exporter": "python",
   "pygments_lexer": "ipython3",
   "version": "3.8.8"
  }
 },
 "nbformat": 4,
 "nbformat_minor": 5
}
