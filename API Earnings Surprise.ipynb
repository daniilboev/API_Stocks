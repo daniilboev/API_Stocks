{
 "cells": [
  {
   "cell_type": "code",
   "execution_count": 243,
   "id": "fff70c4f",
   "metadata": {},
   "outputs": [],
   "source": [
    "from urllib.request import urlopen\n",
    "from urllib.error import HTTPError\n",
    "import json\n",
    "import pandas as pd\n",
    "import matplotlib.pyplot as plt\n",
    "import numpy as np\n",
    "import statsmodels.api as sm\n",
    "import seaborn as sns\n",
    "from datetime import datetime, timedelta\n",
    "import matplotlib as mpl\n",
    "from matplotlib import cycler\n",
    "\n",
    "from sklearn.model_selection import train_test_split\n",
    "from sklearn.linear_model import LinearRegression\n",
    "from sklearn import metrics\n",
    "\n",
    "\n",
    "api = 'xxx' #use your API key from the FMP https://site.financialmodelingprep.com/developer/docs/"
   ]
  },
  {
   "cell_type": "code",
   "execution_count": 6,
   "id": "571120c6",
   "metadata": {},
   "outputs": [],
   "source": [
    "def earnings(start, end, api_key, as_reported=False):\n",
    "    \n",
    "    if as_reported:\n",
    "        URL = (f\"https://financialmodelingprep.com/api/v3/earning_calendar?from={start}&to={end}&apikey={api_key}\")\n",
    "             \n",
    "    else:\n",
    "        URL = (f\"https://financialmodelingprep.com/api/v3/earning_calendar?from={start}&to={end}&apikey={api_key}\")\n",
    "\n",
    "    response = urlopen(URL)\n",
    "    data = json.loads(response.read().decode(\"utf-8\"))\n",
    "\n",
    "    data_formatted = {}\n",
    "    \n",
    "\n",
    "    return data\n",
    "\n",
    "\n",
    "def quote(ticker, api_key, as_reported=False):\n",
    "    \n",
    "    if as_reported:\n",
    "        URL = (f\"https://financialmodelingprep.com/api/v3/historical-price-full/{ticker}?serietype=line&apikey={api_key}\")\n",
    "             \n",
    "    else:\n",
    "        URL = (f\"https://financialmodelingprep.com/api/v3/historical-price-full/{ticker}?serietype=line&apikey={api_key}\")\n",
    "\n",
    "    response = urlopen(URL)\n",
    "    data = json.loads(response.read().decode(\"utf-8\"))\n",
    "\n",
    "    data_formatted = {}\n",
    "\n",
    "    return data"
   ]
  },
  {
   "cell_type": "markdown",
   "id": "2ebc09de",
   "metadata": {},
   "source": [
    "## Download earnings for the period"
   ]
  },
  {
   "cell_type": "code",
   "execution_count": 173,
   "id": "8f56fbaf",
   "metadata": {},
   "outputs": [],
   "source": [
    "start = '2019-01-01'\n",
    "#start = start.strftime('%Y-%m-%d')\n",
    "end = '2022-01-01'\n",
    "#end = end.strftime('%Y-%m-%d')\n",
    "\n",
    "stock_one = 'AAPL'\n",
    "\n",
    "# Insert tickers in the following format:\n",
    "\n",
    "ticker_list = ['FISV',\n",
    "'FLT',\n",
    "'FMC',\n",
    "'F',\n",
    "'FTNT',\n",
    "'FTV']\n",
    "\n",
    "ticker_list2 = ['FISV',\n",
    "'FLT',\n",
    "'FMC',\n",
    "'F',\n",
    "'FTNT',\n",
    "'FTV',\n",
    "'AAPL']"
   ]
  },
  {
   "cell_type": "code",
   "execution_count": 90,
   "id": "b5533eca",
   "metadata": {},
   "outputs": [],
   "source": [
    "df = earnings(start, end, api, as_reported=False)\n",
    "df = pd.json_normalize(df)\n",
    "\n",
    "df = df[df['symbol'].isin(ticker_list2)]\n",
    "df['date'] = pd.to_datetime(df['date'])#.dt.date\n",
    "df['EPS_surpise'] = df['eps'] / df['epsEstimated'] - 1"
   ]
  },
  {
   "cell_type": "markdown",
   "id": "932227a0",
   "metadata": {},
   "source": [
    "## Stock returns around earnings announcement"
   ]
  },
  {
   "cell_type": "code",
   "execution_count": 91,
   "id": "6f995edf",
   "metadata": {},
   "outputs": [],
   "source": [
    "FIELDS = ['close','date']\n",
    "\n",
    "df_initial2 = quote(stock_one, api, as_reported=False)\n",
    "df_initial2 = pd.json_normalize(df_initial2['historical'])\n",
    "df_initial2['symbol'] = stock_one\n",
    "\n",
    "for stock in ticker_list:\n",
    "    df_new2 = quote(stock, api, as_reported=False)\n",
    "    df_new2 = pd.json_normalize(df_new2['historical'])\n",
    "    df_new2 = df_new2[FIELDS]\n",
    "    df_new2['symbol'] = stock \n",
    "    df_initial2 = pd.concat([df_new2,df_initial2],axis = 0)\n",
    "    \n",
    "df_initial2 = df_initial2.loc[:, ['symbol','date','close']]"
   ]
  },
  {
   "cell_type": "code",
   "execution_count": 92,
   "id": "a4eb4e85",
   "metadata": {
    "scrolled": true
   },
   "outputs": [],
   "source": [
    "df_1 = df_initial2\n",
    "df_1['date'] = pd.to_datetime(df_1['date'])#.dt.date\n",
    "\n",
    "cols = df_1.columns.tolist()\n",
    "cols = cols[1:2] + cols[0:1] + cols[2:3]\n",
    "df_1 = df_1[cols]"
   ]
  },
  {
   "cell_type": "code",
   "execution_count": 199,
   "id": "c5602d1e",
   "metadata": {},
   "outputs": [
    {
     "name": "stderr",
     "output_type": "stream",
     "text": [
      "<ipython-input-199-fd20093fd470>:1: SettingWithCopyWarning: \n",
      "A value is trying to be set on a copy of a slice from a DataFrame.\n",
      "Try using .loc[row_indexer,col_indexer] = value instead\n",
      "\n",
      "See the caveats in the documentation: https://pandas.pydata.org/pandas-docs/stable/user_guide/indexing.html#returning-a-view-versus-a-copy\n",
      "  df_1['return_10'] = df_1.groupby('symbol')['close'].pct_change(periods=10)\n",
      "<ipython-input-199-fd20093fd470>:2: SettingWithCopyWarning: \n",
      "A value is trying to be set on a copy of a slice from a DataFrame.\n",
      "Try using .loc[row_indexer,col_indexer] = value instead\n",
      "\n",
      "See the caveats in the documentation: https://pandas.pydata.org/pandas-docs/stable/user_guide/indexing.html#returning-a-view-versus-a-copy\n",
      "  df_1['return_1'] = df_1.groupby('symbol')['close'].pct_change(periods=1)\n"
     ]
    }
   ],
   "source": [
    "df_1['return_10'] = df_1.groupby('symbol')['close'].pct_change(periods=10)\n",
    "df_1['return_1'] = df_1.groupby('symbol')['close'].pct_change(periods=1)"
   ]
  },
  {
   "cell_type": "code",
   "execution_count": 200,
   "id": "62e4d644",
   "metadata": {
    "scrolled": true
   },
   "outputs": [],
   "source": [
    "df3 = pd.merge_asof(df.sort_values('date'), df_1.sort_values('date'), on='date', by='symbol', tolerance=pd.Timedelta(\"2 day\"))\n",
    "df_for_ind = df3"
   ]
  },
  {
   "cell_type": "markdown",
   "id": "66caeb38",
   "metadata": {},
   "source": [
    "## Index return"
   ]
  },
  {
   "cell_type": "code",
   "execution_count": 201,
   "id": "e4fc1ac1",
   "metadata": {},
   "outputs": [],
   "source": [
    "FIELDS = ['close','date']\n",
    "\n",
    "df_ind = quote('SPY', api, as_reported=False)\n",
    "df_ind = pd.json_normalize(df_ind['historical'])\n",
    "df_ind['symbol'] = 'SPY'\n",
    "    \n",
    "df_ind = df_ind.loc[:, ['symbol','date','close']]"
   ]
  },
  {
   "cell_type": "code",
   "execution_count": 237,
   "id": "6257ad0f",
   "metadata": {},
   "outputs": [],
   "source": [
    "df_ind = df_ind.sort_values(['date'],ascending = True)\n",
    "\n",
    "df_ind['index_return_10'] = df_ind['close'].pct_change(periods=10)\n",
    "\n",
    "df_ind['date'] = pd.to_datetime(df_ind['date'])\n",
    "\n",
    "df1 = pd.merge_asof(df_for_ind.sort_values('date'), \n",
    "                      df_ind.sort_values('date'), on='date', tolerance=pd.Timedelta(\"2 day\"))"
   ]
  },
  {
   "cell_type": "code",
   "execution_count": 238,
   "id": "e0204e94",
   "metadata": {},
   "outputs": [
    {
     "data": {
      "text/html": [
       "<div>\n",
       "<style scoped>\n",
       "    .dataframe tbody tr th:only-of-type {\n",
       "        vertical-align: middle;\n",
       "    }\n",
       "\n",
       "    .dataframe tbody tr th {\n",
       "        vertical-align: top;\n",
       "    }\n",
       "\n",
       "    .dataframe thead th {\n",
       "        text-align: right;\n",
       "    }\n",
       "</style>\n",
       "<table border=\"1\" class=\"dataframe\">\n",
       "  <thead>\n",
       "    <tr style=\"text-align: right;\">\n",
       "      <th></th>\n",
       "      <th>date</th>\n",
       "      <th>symbol_x</th>\n",
       "      <th>eps</th>\n",
       "      <th>epsEstimated</th>\n",
       "      <th>time</th>\n",
       "      <th>revenue</th>\n",
       "      <th>revenueEstimated</th>\n",
       "      <th>EPS_surpise</th>\n",
       "      <th>close_x</th>\n",
       "      <th>return_10</th>\n",
       "      <th>return_1</th>\n",
       "      <th>symbol_y</th>\n",
       "      <th>close_y</th>\n",
       "      <th>index_return_10</th>\n",
       "    </tr>\n",
       "  </thead>\n",
       "  <tbody>\n",
       "    <tr>\n",
       "      <th>160</th>\n",
       "      <td>2022-02-09</td>\n",
       "      <td>FOXA</td>\n",
       "      <td>0.13</td>\n",
       "      <td>0.01</td>\n",
       "      <td>amc</td>\n",
       "      <td>4.441000e+09</td>\n",
       "      <td>4.217380e+09</td>\n",
       "      <td>12.000000</td>\n",
       "      <td>43.849998</td>\n",
       "      <td>0.072914</td>\n",
       "      <td>-0.003409</td>\n",
       "      <td>SPY</td>\n",
       "      <td>457.540009</td>\n",
       "      <td>0.055748</td>\n",
       "    </tr>\n",
       "    <tr>\n",
       "      <th>164</th>\n",
       "      <td>2022-02-09</td>\n",
       "      <td>MGM</td>\n",
       "      <td>0.12</td>\n",
       "      <td>0.02</td>\n",
       "      <td>amc</td>\n",
       "      <td>0.000000e+00</td>\n",
       "      <td>2.799750e+09</td>\n",
       "      <td>5.000000</td>\n",
       "      <td>48.520000</td>\n",
       "      <td>0.115146</td>\n",
       "      <td>0.030805</td>\n",
       "      <td>SPY</td>\n",
       "      <td>457.540009</td>\n",
       "      <td>0.055748</td>\n",
       "    </tr>\n",
       "    <tr>\n",
       "      <th>237</th>\n",
       "      <td>2022-02-25</td>\n",
       "      <td>PNW</td>\n",
       "      <td>0.24</td>\n",
       "      <td>0.06</td>\n",
       "      <td>bmo</td>\n",
       "      <td>7.988570e+08</td>\n",
       "      <td>6.812000e+08</td>\n",
       "      <td>3.000000</td>\n",
       "      <td>71.990000</td>\n",
       "      <td>-0.023997</td>\n",
       "      <td>0.016377</td>\n",
       "      <td>SPY</td>\n",
       "      <td>437.750000</td>\n",
       "      <td>-0.025750</td>\n",
       "    </tr>\n",
       "    <tr>\n",
       "      <th>15</th>\n",
       "      <td>2022-01-19</td>\n",
       "      <td>PLD</td>\n",
       "      <td>1.67</td>\n",
       "      <td>0.60</td>\n",
       "      <td>bmo</td>\n",
       "      <td>0.000000e+00</td>\n",
       "      <td>1.103910e+09</td>\n",
       "      <td>1.783333</td>\n",
       "      <td>153.589996</td>\n",
       "      <td>-0.023772</td>\n",
       "      <td>-0.003568</td>\n",
       "      <td>SPY</td>\n",
       "      <td>451.750000</td>\n",
       "      <td>-0.054026</td>\n",
       "    </tr>\n",
       "    <tr>\n",
       "      <th>101</th>\n",
       "      <td>2022-02-02</td>\n",
       "      <td>MPC</td>\n",
       "      <td>1.30</td>\n",
       "      <td>0.55</td>\n",
       "      <td>bmo</td>\n",
       "      <td>0.000000e+00</td>\n",
       "      <td>3.067530e+10</td>\n",
       "      <td>1.363636</td>\n",
       "      <td>78.500000</td>\n",
       "      <td>0.005637</td>\n",
       "      <td>0.019878</td>\n",
       "      <td>SPY</td>\n",
       "      <td>457.350006</td>\n",
       "      <td>0.012396</td>\n",
       "    </tr>\n",
       "    <tr>\n",
       "      <th>...</th>\n",
       "      <td>...</td>\n",
       "      <td>...</td>\n",
       "      <td>...</td>\n",
       "      <td>...</td>\n",
       "      <td>...</td>\n",
       "      <td>...</td>\n",
       "      <td>...</td>\n",
       "      <td>...</td>\n",
       "      <td>...</td>\n",
       "      <td>...</td>\n",
       "      <td>...</td>\n",
       "      <td>...</td>\n",
       "      <td>...</td>\n",
       "      <td>...</td>\n",
       "    </tr>\n",
       "    <tr>\n",
       "      <th>5</th>\n",
       "      <td>2022-01-12</td>\n",
       "      <td>DGX</td>\n",
       "      <td>NaN</td>\n",
       "      <td>NaN</td>\n",
       "      <td>bmo</td>\n",
       "      <td>0.000000e+00</td>\n",
       "      <td>2.337600e+09</td>\n",
       "      <td>NaN</td>\n",
       "      <td>147.139999</td>\n",
       "      <td>0.089280</td>\n",
       "      <td>0.014689</td>\n",
       "      <td>SPY</td>\n",
       "      <td>471.019989</td>\n",
       "      <td>-0.013529</td>\n",
       "    </tr>\n",
       "    <tr>\n",
       "      <th>6</th>\n",
       "      <td>2022-01-14</td>\n",
       "      <td>SHW</td>\n",
       "      <td>NaN</td>\n",
       "      <td>NaN</td>\n",
       "      <td>bmo</td>\n",
       "      <td>0.000000e+00</td>\n",
       "      <td>4.769860e+09</td>\n",
       "      <td>NaN</td>\n",
       "      <td>308.459991</td>\n",
       "      <td>0.076612</td>\n",
       "      <td>0.007315</td>\n",
       "      <td>SPY</td>\n",
       "      <td>464.720001</td>\n",
       "      <td>-0.021560</td>\n",
       "    </tr>\n",
       "    <tr>\n",
       "      <th>129</th>\n",
       "      <td>2022-02-03</td>\n",
       "      <td>NWS</td>\n",
       "      <td>0.44</td>\n",
       "      <td>NaN</td>\n",
       "      <td>amc</td>\n",
       "      <td>2.717000e+09</td>\n",
       "      <td>NaN</td>\n",
       "      <td>NaN</td>\n",
       "      <td>22.540001</td>\n",
       "      <td>-0.022550</td>\n",
       "      <td>-0.008359</td>\n",
       "      <td>SPY</td>\n",
       "      <td>446.600006</td>\n",
       "      <td>-0.000336</td>\n",
       "    </tr>\n",
       "    <tr>\n",
       "      <th>141</th>\n",
       "      <td>2022-02-07</td>\n",
       "      <td>L</td>\n",
       "      <td>1.37</td>\n",
       "      <td>NaN</td>\n",
       "      <td>bmo</td>\n",
       "      <td>1.430000e+09</td>\n",
       "      <td>NaN</td>\n",
       "      <td>NaN</td>\n",
       "      <td>60.830002</td>\n",
       "      <td>-0.002950</td>\n",
       "      <td>-0.014899</td>\n",
       "      <td>SPY</td>\n",
       "      <td>447.260010</td>\n",
       "      <td>0.016870</td>\n",
       "    </tr>\n",
       "    <tr>\n",
       "      <th>167</th>\n",
       "      <td>2022-02-09</td>\n",
       "      <td>FOX</td>\n",
       "      <td>0.13</td>\n",
       "      <td>NaN</td>\n",
       "      <td>amc</td>\n",
       "      <td>4.441000e+09</td>\n",
       "      <td>7.841530e+09</td>\n",
       "      <td>NaN</td>\n",
       "      <td>39.919998</td>\n",
       "      <td>0.071390</td>\n",
       "      <td>-0.003246</td>\n",
       "      <td>SPY</td>\n",
       "      <td>457.540009</td>\n",
       "      <td>0.055748</td>\n",
       "    </tr>\n",
       "  </tbody>\n",
       "</table>\n",
       "<p>253 rows × 14 columns</p>\n",
       "</div>"
      ],
      "text/plain": [
       "          date symbol_x   eps  epsEstimated time       revenue  \\\n",
       "160 2022-02-09     FOXA  0.13          0.01  amc  4.441000e+09   \n",
       "164 2022-02-09      MGM  0.12          0.02  amc  0.000000e+00   \n",
       "237 2022-02-25      PNW  0.24          0.06  bmo  7.988570e+08   \n",
       "15  2022-01-19      PLD  1.67          0.60  bmo  0.000000e+00   \n",
       "101 2022-02-02      MPC  1.30          0.55  bmo  0.000000e+00   \n",
       "..         ...      ...   ...           ...  ...           ...   \n",
       "5   2022-01-12      DGX   NaN           NaN  bmo  0.000000e+00   \n",
       "6   2022-01-14      SHW   NaN           NaN  bmo  0.000000e+00   \n",
       "129 2022-02-03      NWS  0.44           NaN  amc  2.717000e+09   \n",
       "141 2022-02-07        L  1.37           NaN  bmo  1.430000e+09   \n",
       "167 2022-02-09      FOX  0.13           NaN  amc  4.441000e+09   \n",
       "\n",
       "     revenueEstimated  EPS_surpise     close_x  return_10  return_1 symbol_y  \\\n",
       "160      4.217380e+09    12.000000   43.849998   0.072914 -0.003409      SPY   \n",
       "164      2.799750e+09     5.000000   48.520000   0.115146  0.030805      SPY   \n",
       "237      6.812000e+08     3.000000   71.990000  -0.023997  0.016377      SPY   \n",
       "15       1.103910e+09     1.783333  153.589996  -0.023772 -0.003568      SPY   \n",
       "101      3.067530e+10     1.363636   78.500000   0.005637  0.019878      SPY   \n",
       "..                ...          ...         ...        ...       ...      ...   \n",
       "5        2.337600e+09          NaN  147.139999   0.089280  0.014689      SPY   \n",
       "6        4.769860e+09          NaN  308.459991   0.076612  0.007315      SPY   \n",
       "129               NaN          NaN   22.540001  -0.022550 -0.008359      SPY   \n",
       "141               NaN          NaN   60.830002  -0.002950 -0.014899      SPY   \n",
       "167      7.841530e+09          NaN   39.919998   0.071390 -0.003246      SPY   \n",
       "\n",
       "        close_y  index_return_10  \n",
       "160  457.540009         0.055748  \n",
       "164  457.540009         0.055748  \n",
       "237  437.750000        -0.025750  \n",
       "15   451.750000        -0.054026  \n",
       "101  457.350006         0.012396  \n",
       "..          ...              ...  \n",
       "5    471.019989        -0.013529  \n",
       "6    464.720001        -0.021560  \n",
       "129  446.600006        -0.000336  \n",
       "141  447.260010         0.016870  \n",
       "167  457.540009         0.055748  \n",
       "\n",
       "[253 rows x 14 columns]"
      ]
     },
     "execution_count": 238,
     "metadata": {},
     "output_type": "execute_result"
    }
   ],
   "source": [
    "df1.sort_values(['EPS_surpise'],ascending = False)"
   ]
  },
  {
   "cell_type": "code",
   "execution_count": 204,
   "id": "2e653082",
   "metadata": {},
   "outputs": [],
   "source": [
    "df1_sorted = df1.sort_values(['EPS_surpise'],ascending = False)\n",
    "df1_sorted25 = df1_sorted[df1_sorted['EPS_surpise'] > df1_sorted['EPS_surpise'].quantile(0.75)]\n",
    "df1_sorted50 = df1_sorted[df1_sorted['EPS_surpise'] > df1_sorted['EPS_surpise'].quantile(0.5)]\n",
    "df1_sorted75 = df1_sorted[df1_sorted['EPS_surpise'] > df1_sorted['EPS_surpise'].quantile(0.25)]\n",
    "df1_sorted100 = df1_sorted"
   ]
  },
  {
   "cell_type": "code",
   "execution_count": 205,
   "id": "1c3c77ae",
   "metadata": {},
   "outputs": [
    {
     "name": "stdout",
     "output_type": "stream",
     "text": [
      "0.6731249709072782\n",
      "0.3797613463260003\n",
      "0.26103016003190715\n",
      "0.10565417797964864\n"
     ]
    }
   ],
   "source": [
    "print(df1_sorted25['EPS_surpise'].mean())\n",
    "print(df1_sorted50['EPS_surpise'].mean())\n",
    "print(df1_sorted75['EPS_surpise'].mean())\n",
    "print(df1_sorted100['EPS_surpise'].mean())"
   ]
  },
  {
   "cell_type": "code",
   "execution_count": 206,
   "id": "6cc5b33b",
   "metadata": {},
   "outputs": [
    {
     "name": "stdout",
     "output_type": "stream",
     "text": [
      "-0.010433652148160928\n",
      "-0.005908820611746963\n",
      "-0.007033513775032129\n",
      "-0.0016464284727891849\n"
     ]
    }
   ],
   "source": [
    "print(df1_sorted25['return_10'].mean())\n",
    "print(df1_sorted50['return_10'].mean())\n",
    "print(df1_sorted75['return_10'].mean())\n",
    "print(df1_sorted100['return_10'].mean())"
   ]
  },
  {
   "cell_type": "markdown",
   "id": "b908e269",
   "metadata": {},
   "source": [
    "## Regression"
   ]
  },
  {
   "cell_type": "code",
   "execution_count": 214,
   "id": "a5f372dd",
   "metadata": {},
   "outputs": [],
   "source": [
    "df_test = df1.dropna(subset=['EPS_surpise','return_10','index_return_10'])\n",
    "y = df_test['return_10']\n",
    "x = df_test[['EPS_surpise','index_return_10']]\n",
    "\n",
    "x_train, x_test, y_train, y_test = train_test_split(x, y, test_size = 0.4, random_state = 100)"
   ]
  },
  {
   "cell_type": "code",
   "execution_count": 218,
   "id": "77b635b9",
   "metadata": {},
   "outputs": [
    {
     "data": {
      "text/html": [
       "<table class=\"simpletable\">\n",
       "<caption>OLS Regression Results</caption>\n",
       "<tr>\n",
       "  <th>Dep. Variable:</th>        <td>return_10</td>    <th>  R-squared (uncentered):</th>      <td>   0.083</td>\n",
       "</tr>\n",
       "<tr>\n",
       "  <th>Model:</th>                   <td>OLS</td>       <th>  Adj. R-squared (uncentered):</th> <td>   0.071</td>\n",
       "</tr>\n",
       "<tr>\n",
       "  <th>Method:</th>             <td>Least Squares</td>  <th>  F-statistic:       </th>          <td>   6.604</td>\n",
       "</tr>\n",
       "<tr>\n",
       "  <th>Date:</th>             <td>Mon, 21 Mar 2022</td> <th>  Prob (F-statistic):</th>           <td>0.00180</td>\n",
       "</tr>\n",
       "<tr>\n",
       "  <th>Time:</th>                 <td>21:09:21</td>     <th>  Log-Likelihood:    </th>          <td>  133.23</td>\n",
       "</tr>\n",
       "<tr>\n",
       "  <th>No. Observations:</th>      <td>   147</td>      <th>  AIC:               </th>          <td>  -262.5</td>\n",
       "</tr>\n",
       "<tr>\n",
       "  <th>Df Residuals:</th>          <td>   145</td>      <th>  BIC:               </th>          <td>  -256.5</td>\n",
       "</tr>\n",
       "<tr>\n",
       "  <th>Df Model:</th>              <td>     2</td>      <th>                     </th>              <td> </td>   \n",
       "</tr>\n",
       "<tr>\n",
       "  <th>Covariance Type:</th>      <td>nonrobust</td>    <th>                     </th>              <td> </td>   \n",
       "</tr>\n",
       "</table>\n",
       "<table class=\"simpletable\">\n",
       "<tr>\n",
       "         <td></td>            <th>coef</th>     <th>std err</th>      <th>t</th>      <th>P>|t|</th>  <th>[0.025</th>    <th>0.975]</th>  \n",
       "</tr>\n",
       "<tr>\n",
       "  <th>EPS_surpise</th>     <td>   -0.0036</td> <td>    0.007</td> <td>   -0.541</td> <td> 0.589</td> <td>   -0.017</td> <td>    0.010</td>\n",
       "</tr>\n",
       "<tr>\n",
       "  <th>index_return_10</th> <td>    0.5689</td> <td>    0.157</td> <td>    3.612</td> <td> 0.000</td> <td>    0.258</td> <td>    0.880</td>\n",
       "</tr>\n",
       "</table>\n",
       "<table class=\"simpletable\">\n",
       "<tr>\n",
       "  <th>Omnibus:</th>       <td>76.834</td> <th>  Durbin-Watson:     </th> <td>   1.735</td> \n",
       "</tr>\n",
       "<tr>\n",
       "  <th>Prob(Omnibus):</th> <td> 0.000</td> <th>  Jarque-Bera (JB):  </th> <td> 575.866</td> \n",
       "</tr>\n",
       "<tr>\n",
       "  <th>Skew:</th>          <td> 1.679</td> <th>  Prob(JB):          </th> <td>8.96e-126</td>\n",
       "</tr>\n",
       "<tr>\n",
       "  <th>Kurtosis:</th>      <td>12.096</td> <th>  Cond. No.          </th> <td>    23.4</td> \n",
       "</tr>\n",
       "</table><br/><br/>Notes:<br/>[1] R² is computed without centering (uncentered) since the model does not contain a constant.<br/>[2] Standard Errors assume that the covariance matrix of the errors is correctly specified."
      ],
      "text/plain": [
       "<class 'statsmodels.iolib.summary.Summary'>\n",
       "\"\"\"\n",
       "                                 OLS Regression Results                                \n",
       "=======================================================================================\n",
       "Dep. Variable:              return_10   R-squared (uncentered):                   0.083\n",
       "Model:                            OLS   Adj. R-squared (uncentered):              0.071\n",
       "Method:                 Least Squares   F-statistic:                              6.604\n",
       "Date:                Mon, 21 Mar 2022   Prob (F-statistic):                     0.00180\n",
       "Time:                        21:09:21   Log-Likelihood:                          133.23\n",
       "No. Observations:                 147   AIC:                                     -262.5\n",
       "Df Residuals:                     145   BIC:                                     -256.5\n",
       "Df Model:                           2                                                  \n",
       "Covariance Type:            nonrobust                                                  \n",
       "===================================================================================\n",
       "                      coef    std err          t      P>|t|      [0.025      0.975]\n",
       "-----------------------------------------------------------------------------------\n",
       "EPS_surpise        -0.0036      0.007     -0.541      0.589      -0.017       0.010\n",
       "index_return_10     0.5689      0.157      3.612      0.000       0.258       0.880\n",
       "==============================================================================\n",
       "Omnibus:                       76.834   Durbin-Watson:                   1.735\n",
       "Prob(Omnibus):                  0.000   Jarque-Bera (JB):              575.866\n",
       "Skew:                           1.679   Prob(JB):                    8.96e-126\n",
       "Kurtosis:                      12.096   Cond. No.                         23.4\n",
       "==============================================================================\n",
       "\n",
       "Notes:\n",
       "[1] R² is computed without centering (uncentered) since the model does not contain a constant.\n",
       "[2] Standard Errors assume that the covariance matrix of the errors is correctly specified.\n",
       "\"\"\""
      ]
     },
     "execution_count": 218,
     "metadata": {},
     "output_type": "execute_result"
    }
   ],
   "source": [
    "mlr = LinearRegression(fit_intercept = False)  \n",
    "mlr.fit(x_train, y_train)\n",
    "\n",
    "x_train1 = sm.add_constant(x_train)\n",
    "results = sm.OLS(y_train,x_train).fit()\n",
    "results.summary()  "
   ]
  },
  {
   "cell_type": "code",
   "execution_count": 219,
   "id": "a1462dca",
   "metadata": {},
   "outputs": [],
   "source": [
    "y_pred_mlr= mlr.predict(x_test)\n",
    "mlr_diff = pd.DataFrame({'Actual value': y_test, 'Predicted value': y_pred_mlr})"
   ]
  },
  {
   "cell_type": "code",
   "execution_count": 220,
   "id": "cd3b4bb4",
   "metadata": {},
   "outputs": [
    {
     "name": "stdout",
     "output_type": "stream",
     "text": [
      "Intercept:  0.0\n",
      "Coefficients:\n"
     ]
    },
    {
     "data": {
      "text/plain": [
       "[('EPS_surpise', -0.0036396427252855237),\n",
       " ('index_return_10', 0.5688501286567947)]"
      ]
     },
     "execution_count": 220,
     "metadata": {},
     "output_type": "execute_result"
    }
   ],
   "source": [
    "meanAbErr = metrics.mean_absolute_error(y_test, y_pred_mlr)\n",
    "meanSqErr = metrics.mean_squared_error(y_test, y_pred_mlr)\n",
    "rootMeanSqErr = np.sqrt(metrics.mean_squared_error(y_test, y_pred_mlr))\n",
    "\n",
    "print(\"Intercept: \", mlr.intercept_)\n",
    "print(\"Coefficients:\")\n",
    "list(zip(x, mlr.coef_))"
   ]
  },
  {
   "cell_type": "code",
   "execution_count": 221,
   "id": "d9d96e8a",
   "metadata": {
    "scrolled": false
   },
   "outputs": [
    {
     "name": "stdout",
     "output_type": "stream",
     "text": [
      "R squared: 2.81\n",
      "Mean Absolute Error: 0.0637960825400267\n",
      "Mean Square Error: 0.007039701957689704\n",
      "Root Mean Square Error: 0.08390293175860844\n"
     ]
    }
   ],
   "source": [
    "print('R squared: {:.2f}'.format(mlr.score(x,y)*100))\n",
    "print('Mean Absolute Error:', meanAbErr)\n",
    "print('Mean Square Error:', meanSqErr)\n",
    "print('Root Mean Square Error:', rootMeanSqErr)"
   ]
  },
  {
   "cell_type": "code",
   "execution_count": 261,
   "id": "7c1aff11",
   "metadata": {},
   "outputs": [],
   "source": [
    "IPython_default = plt.rcParams.copy()\n",
    "\n",
    "colors = cycler('color',\n",
    "                ['#EE6666', '#3388BB', '#9988DD',\n",
    "                 '#EECC55', '#88BB44', '#FFBBBB'])\n",
    "plt.rc('axes', facecolor='#E6E6E6', edgecolor='none',\n",
    "       axisbelow=True, grid=True, prop_cycle=colors)\n",
    "plt.rc('grid', color='w', linestyle='solid')\n",
    "plt.rc('xtick', direction='out', color='gray')\n",
    "plt.rc('ytick', direction='out', color='gray')\n",
    "plt.rc('patch', edgecolor='#E6E6E6')\n",
    "plt.rc('lines', linewidth=2)"
   ]
  },
  {
   "cell_type": "code",
   "execution_count": 262,
   "id": "7773b4d1",
   "metadata": {
    "scrolled": false
   },
   "outputs": [
    {
     "data": {
      "image/png": "[encoded data removed]",
      "text/plain": [
       "<Figure size 640x480 with 1 Axes>"
      ]
     },
     "metadata": {},
     "output_type": "display_data"
    }
   ],
   "source": [
    "plt.scatter(y_test, y_pred_mlr,color='blue')\n",
    "\n",
    "plt.title('Actual', fontsize=14)\n",
    "plt.ylabel('Predicted', fontsize=14)\n",
    "plt.axline([0, 0], [1, 1])\n",
    "plt.xlim([-0.2, 0.2])\n",
    "plt.ylim([-0.1, 0.1])\n",
    "\n",
    "plt.show()"
   ]
  },
  {
   "cell_type": "code",
   "execution_count": 292,
   "id": "1ca004be",
   "metadata": {},
   "outputs": [
    {
     "data": {
      "image/png": "[encoded data removed]",
      "text/plain": [
       "<Figure size 640x480 with 1 Axes>"
      ]
     },
     "metadata": {},
     "output_type": "display_data"
    }
   ],
   "source": [
    "plt.scatter(df_test['EPS_surpise'], df_test['return_10'],color='blue')\n",
    "plt.ylabel('return_10', fontsize=12)\n",
    "plt.xlabel('EPS_surpise', fontsize=14)\n",
    "plt.xlim([-0.4, 0.4])\n",
    "plt.ylim([-0.4, 0.4])\n",
    "\n",
    "plt.show()"
   ]
  },
  {
   "cell_type": "code",
   "execution_count": 265,
   "id": "97ef238c",
   "metadata": {},
   "outputs": [
    {
     "data": {
      "image/png": "[encoded data removed]",
      "text/plain": [
       "<Figure size 640x480 with 1 Axes>"
      ]
     },
     "metadata": {},
     "output_type": "display_data"
    }
   ],
   "source": [
    "x = df_test['EPS_surpise']\n",
    "y = df_test['return_10']\n",
    "\n",
    "fig, ax = plt.subplots()\n",
    "ax.hist2d(x, y, bins=(np.arange(-3, 3, 0.025), np.arange(-3, 3, 0.025)))\n",
    "ax.set(xlim=(-0.4, 0.4), ylim=(-0.4, 0.4))\n",
    "plt.ylabel('return_10', fontsize=14)\n",
    "plt.xlabel('EPS_surpise', fontsize=14)\n",
    "\n",
    "plt.show()"
   ]
  },
  {
   "cell_type": "code",
   "execution_count": 284,
   "id": "cb640c87",
   "metadata": {},
   "outputs": [
    {
     "data": {
      "image/png": "[encoded data removed]",
      "text/plain": [
       "<Figure size 640x480 with 1 Axes>"
      ]
     },
     "metadata": {},
     "output_type": "display_data"
    }
   ],
   "source": [
    "fig, ax = plt.subplots()\n",
    "\n",
    "ax.hist(df_test['EPS_surpise'], bins=200, linewidth=0.5, edgecolor=\"black\")\n",
    "\n",
    "ax.set(xlim=(-1, 1), xticks=np.arange(-1, 1),\n",
    "       ylim=(0, 100), yticks=np.linspace(0, 100, 9))\n",
    "\n",
    "plt.show()"
   ]
  },
  {
   "cell_type": "code",
   "execution_count": null,
   "id": "42bd7772",
   "metadata": {},
   "outputs": [],
   "source": [
    "df3.to_csv('/Users/daniil_bruk/Desktop/list4.csv', index = True, header=True)"
   ]
  }
 ],
 "metadata": {
  "kernelspec": {
   "display_name": "Python 3",
   "language": "python",
   "name": "python3"
  },
  "language_info": {
   "codemirror_mode": {
    "name": "ipython",
    "version": 3
   },
   "file_extension": ".py",
   "mimetype": "text/x-python",
   "name": "python",
   "nbconvert_exporter": "python",
   "pygments_lexer": "ipython3",
   "version": "3.8.8"
  }
 },
 "nbformat": 4,
 "nbformat_minor": 5
}
