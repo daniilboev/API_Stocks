{
 "cells": [
  {
   "cell_type": "code",
   "execution_count": 1,
   "id": "7430d249",
   "metadata": {},
   "outputs": [],
   "source": [
    "from urllib.request import urlopen\n",
    "from urllib.error import HTTPError\n",
    "import json\n",
    "import pandas as pd\n",
    "import matplotlib.pyplot as plt\n",
    "import numpy as np\n",
    "import statsmodels.api as sm\n",
    "import seaborn as sns\n",
    "from sklearn.model_selection import train_test_split\n",
    "from sklearn.linear_model import LinearRegression\n",
    "from sklearn import metrics\n",
    "\n",
    "pd.options.mode.chained_assignment = None "
   ]
  },
  {
   "cell_type": "code",
   "execution_count": 2,
   "id": "11a176a8",
   "metadata": {},
   "outputs": [],
   "source": [
    "def screener(country,  api, as_reported=False, limit=10000):\n",
    "    \n",
    "    if as_reported:\n",
    "        URL = (f\"https://financialmodelingprep.com/api/v3/stock-screener?marketCapMoreThan={cap}&country={country}&isEtf=false&limit={limit}&apikey={api}\")\n",
    "             \n",
    "    else:\n",
    "        URL = (f\"https://financialmodelingprep.com/api/v3/stock-screener?marketCapMoreThan={cap}&country={country}&isEtf=false&limit={limit}&apikey={api}\")\n",
    "\n",
    "    response = urlopen(URL)\n",
    "    data = json.loads(response.read().decode(\"utf-8\"))\n",
    "\n",
    "    data_formatted = {}\n",
    "    \n",
    "    return data"
   ]
  },
  {
   "cell_type": "code",
   "execution_count": 5,
   "id": "4a0cb8c2",
   "metadata": {},
   "outputs": [],
   "source": [
    "api = '123456789' "
   ]
  },
  {
   "cell_type": "code",
   "execution_count": 6,
   "id": "728295ea",
   "metadata": {},
   "outputs": [
    {
     "name": "stderr",
     "output_type": "stream",
     "text": [
      "<ipython-input-6-d35dce32dd5a>:14: UserWarning: Boolean Series key will be reindexed to match DataFrame index.\n",
      "  df_final = df_final[(df_initial['sector'] != '')]\n"
     ]
    }
   ],
   "source": [
    "cap = '1000000'\n",
    "country = 'US'\n",
    "isEtf = 'false'\n",
    "\n",
    "df_initial = screener(country, api, as_reported=False, limit=10000)\n",
    "df_initial = pd.json_normalize(df_initial)\n",
    "\n",
    "df_final = df_initial[(df_initial['sector'] != 'Real Estate') & (df_initial['sector'] != 'Financial Services')]\n",
    "\n",
    "df_final = df_final[(df_final['exchangeShortName'] == 'NASDAQ') | (df_final['exchangeShortName'] == 'NYSE')]\n",
    "\n",
    "df_final = df_final.drop_duplicates(subset=['companyName'], keep = 'first')\n",
    "\n",
    "df_final = df_final[(df_initial['sector'] != '')]"
   ]
  },
  {
   "cell_type": "code",
   "execution_count": 7,
   "id": "1b9601a7",
   "metadata": {},
   "outputs": [],
   "source": [
    "df_final.to_csv('/Users/daniil_bruk/Desktop/list_us.csv', index = True, header=True)"
   ]
  },
  {
   "cell_type": "code",
   "execution_count": 8,
   "id": "50af22cc",
   "metadata": {},
   "outputs": [
    {
     "name": "stderr",
     "output_type": "stream",
     "text": [
      "<ipython-input-8-bd9e257dc06c>:12: UserWarning: Boolean Series key will be reindexed to match DataFrame index.\n",
      "  df_final = df_final[(df_initial['sector'] != '')]\n"
     ]
    }
   ],
   "source": [
    "cap = '10000000'\n",
    "country = 'GB'\n",
    "isEtf = 'false'\n",
    "\n",
    "df_initial = screener(country, api, as_reported=False, limit=10000)\n",
    "df_initial = pd.json_normalize(df_initial)\n",
    "\n",
    "df_final = df_initial[(df_initial['sector'] != 'Real Estate') & (df_initial['sector'] != 'Financial Services')]\n",
    "\n",
    "df_final = df_final.drop_duplicates(subset=['companyName'], keep = 'first')\n",
    "\n",
    "df_final = df_final[(df_initial['sector'] != '')]"
   ]
  },
  {
   "cell_type": "code",
   "execution_count": 9,
   "id": "56b2ee80",
   "metadata": {},
   "outputs": [],
   "source": [
    "df_final.to_csv('/Users/daniil_bruk/Desktop/list_GB.csv', index = True, header=True)"
   ]
  }
 ],
 "metadata": {
  "kernelspec": {
   "display_name": "Python 3",
   "language": "python",
   "name": "python3"
  },
  "language_info": {
   "codemirror_mode": {
    "name": "ipython",
    "version": 3
   },
   "file_extension": ".py",
   "mimetype": "text/x-python",
   "name": "python",
   "nbconvert_exporter": "python",
   "pygments_lexer": "ipython3",
   "version": "3.8.8"
  }
 },
 "nbformat": 4,
 "nbformat_minor": 5
}
