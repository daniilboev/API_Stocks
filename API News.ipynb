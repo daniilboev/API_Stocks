{
 "cells": [
  {
   "cell_type": "code",
   "execution_count": 1,
   "id": "5d2990a2",
   "metadata": {},
   "outputs": [],
   "source": [
    "from urllib.request import urlopen\n",
    "from urllib.error import HTTPError\n",
    "import json\n",
    "import pandas as pd\n",
    "import matplotlib.pyplot as plt\n",
    "import numpy as np\n",
    "import statsmodels.api as sm\n",
    "import seaborn as sns\n",
    "\n",
    "from sklearn.model_selection import train_test_split\n",
    "from sklearn.linear_model import LinearRegression\n",
    "from sklearn import metrics\n",
    "\n",
    "api = 'xxx' #use your API key from the FMP https://site.financialmodelingprep.com/developer/docs/"
   ]
  },
  {
   "cell_type": "code",
   "execution_count": 12,
   "id": "427ccb40",
   "metadata": {},
   "outputs": [],
   "source": [
    "def news(tickers, api_key, as_reported=False, limit=130):\n",
    "    \n",
    "    if as_reported:\n",
    "        URL = (f\"https://financialmodelingprep.com/api/v3/stock_news?tickers=AAPL,FB&page=0&&apikey={api_key}\")\n",
    "             \n",
    "    else:\n",
    "        URL = (f\"https://financialmodelingprep.com/api/v3/stock_news?tickers=AAPL,FB&page=0&&apikey={api_key}\")\n",
    "\n",
    "    response = urlopen(URL)\n",
    "    data = json.loads(response.read().decode(\"utf-8\"))\n",
    "\n",
    "    data_formatted = {}\n",
    "    \n",
    "    return data\n"
   ]
  },
  {
   "cell_type": "code",
   "execution_count": 13,
   "id": "963b03a9",
   "metadata": {},
   "outputs": [],
   "source": [
    "tickers = ['CVX',\n",
    "'RDS-B',\n",
    "'RDS-A',\n",
    "'SHEL',\n",
    "'PTR',\n",
    "'TTE',\n",
    "'COP']"
   ]
  },
  {
   "cell_type": "code",
   "execution_count": 14,
   "id": "83e58306",
   "metadata": {},
   "outputs": [],
   "source": [
    "df_initial = news(tickers, api, as_reported=False, limit=130)\n",
    "df_initial = pd.json_normalize(df_initial)"
   ]
  },
  {
   "cell_type": "code",
   "execution_count": 23,
   "id": "4f3eb991",
   "metadata": {},
   "outputs": [
    {
     "data": {
      "text/html": [
       "<div>\n",
       "<style scoped>\n",
       "    .dataframe tbody tr th:only-of-type {\n",
       "        vertical-align: middle;\n",
       "    }\n",
       "\n",
       "    .dataframe tbody tr th {\n",
       "        vertical-align: top;\n",
       "    }\n",
       "\n",
       "    .dataframe thead th {\n",
       "        text-align: right;\n",
       "    }\n",
       "</style>\n",
       "<table border=\"1\" class=\"dataframe\">\n",
       "  <thead>\n",
       "    <tr style=\"text-align: right;\">\n",
       "      <th></th>\n",
       "      <th>publishedDate</th>\n",
       "      <th>title</th>\n",
       "      <th>url</th>\n",
       "    </tr>\n",
       "  </thead>\n",
       "  <tbody>\n",
       "    <tr>\n",
       "      <th>0</th>\n",
       "      <td>2022-03-15 14:11:04</td>\n",
       "      <td>Here's Why Apple And Microsoft Shares Are Risi...</td>\n",
       "      <td>https://www.benzinga.com/markets/cryptocurrenc...</td>\n",
       "    </tr>\n",
       "    <tr>\n",
       "      <th>1</th>\n",
       "      <td>2022-03-15 12:48:07</td>\n",
       "      <td>Apple (AAPL) is Expected To Launch iPhone 14 i...</td>\n",
       "      <td>https://www.zacks.com/stock/news/1882401/apple...</td>\n",
       "    </tr>\n",
       "    <tr>\n",
       "      <th>2</th>\n",
       "      <td>2022-03-15 12:35:42</td>\n",
       "      <td>South Korea approves rules on app store law ta...</td>\n",
       "      <td>https://www.youtube.com/watch?v=IOIeqTV-H5Y</td>\n",
       "    </tr>\n",
       "    <tr>\n",
       "      <th>3</th>\n",
       "      <td>2022-03-15 12:32:43</td>\n",
       "      <td>Turn to TDIV for Dependable Dividends</td>\n",
       "      <td>https://www.etftrends.com/nasdaq-portfolio-sol...</td>\n",
       "    </tr>\n",
       "    <tr>\n",
       "      <th>4</th>\n",
       "      <td>2022-03-15 12:32:41</td>\n",
       "      <td>Solving the Concentration Conundrum</td>\n",
       "      <td>https://www.etftrends.com/portfolio-strategies...</td>\n",
       "    </tr>\n",
       "    <tr>\n",
       "      <th>10</th>\n",
       "      <td>2022-03-15 10:00:42</td>\n",
       "      <td>China Closes Two Manufacturing Hubs as Covid-1...</td>\n",
       "      <td>https://www.investopedia.com/china-closes-2-ma...</td>\n",
       "    </tr>\n",
       "    <tr>\n",
       "      <th>11</th>\n",
       "      <td>2022-03-15 09:17:41</td>\n",
       "      <td>7 Superstar Tech Stocks That May Outperform Th...</td>\n",
       "      <td>https://investorplace.com/2022/03/7-superstar-...</td>\n",
       "    </tr>\n",
       "    <tr>\n",
       "      <th>13</th>\n",
       "      <td>2022-03-15 06:30:00</td>\n",
       "      <td>Old, New, Borrowed, Blue: Investor's Edition</td>\n",
       "      <td>https://www.fool.com/investing/2022/03/15/old-...</td>\n",
       "    </tr>\n",
       "  </tbody>\n",
       "</table>\n",
       "</div>"
      ],
      "text/plain": [
       "          publishedDate                                              title  \\\n",
       "0   2022-03-15 14:11:04  Here's Why Apple And Microsoft Shares Are Risi...   \n",
       "1   2022-03-15 12:48:07  Apple (AAPL) is Expected To Launch iPhone 14 i...   \n",
       "2   2022-03-15 12:35:42  South Korea approves rules on app store law ta...   \n",
       "3   2022-03-15 12:32:43              Turn to TDIV for Dependable Dividends   \n",
       "4   2022-03-15 12:32:41                Solving the Concentration Conundrum   \n",
       "10  2022-03-15 10:00:42  China Closes Two Manufacturing Hubs as Covid-1...   \n",
       "11  2022-03-15 09:17:41  7 Superstar Tech Stocks That May Outperform Th...   \n",
       "13  2022-03-15 06:30:00       Old, New, Borrowed, Blue: Investor's Edition   \n",
       "\n",
       "                                                  url  \n",
       "0   https://www.benzinga.com/markets/cryptocurrenc...  \n",
       "1   https://www.zacks.com/stock/news/1882401/apple...  \n",
       "2         https://www.youtube.com/watch?v=IOIeqTV-H5Y  \n",
       "3   https://www.etftrends.com/nasdaq-portfolio-sol...  \n",
       "4   https://www.etftrends.com/portfolio-strategies...  \n",
       "10  https://www.investopedia.com/china-closes-2-ma...  \n",
       "11  https://investorplace.com/2022/03/7-superstar-...  \n",
       "13  https://www.fool.com/investing/2022/03/15/old-...  "
      ]
     },
     "execution_count": 23,
     "metadata": {},
     "output_type": "execute_result"
    }
   ],
   "source": [
    "df = df_initial[(df_initial['symbol']=='AAPL')&(df_initial['publishedDate']>='2022-03-15 00:00:00')]\n",
    "df = df[['publishedDate','title','url']]"
   ]
  },
  {
   "cell_type": "code",
   "execution_count": 24,
   "id": "b551fced",
   "metadata": {},
   "outputs": [],
   "source": [
    "df.to_csv('/Users/daniil_bruk/Desktop/news.csv', index = True, header=True)"
   ]
  }
 ],
 "metadata": {
  "kernelspec": {
   "display_name": "Python 3",
   "language": "python",
   "name": "python3"
  },
  "language_info": {
   "codemirror_mode": {
    "name": "ipython",
    "version": 3
   },
   "file_extension": ".py",
   "mimetype": "text/x-python",
   "name": "python",
   "nbconvert_exporter": "python",
   "pygments_lexer": "ipython3",
   "version": "3.8.8"
  }
 },
 "nbformat": 4,
 "nbformat_minor": 5
}
